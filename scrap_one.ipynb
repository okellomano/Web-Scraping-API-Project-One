{
 "cells": [
  {
   "cell_type": "markdown",
   "id": "44ee5f9a-e20b-4847-a7a7-54205e713304",
   "metadata": {},
   "source": [
    "### <strong>Web Scaping API: Project One.</strong>\n",
    "#### <strong>By: Edward</strong>\n",
    "\n",
    "### Project Description\n",
    "The goal of this project is to scrape data from ebooks.com using Python and Pandas library and store the result in an Excel file. \n",
    "<br>The project will involve the following steps:\n",
    "\n",
    "<ul>\n",
    "    <li>Scraping data from the ebooks.com website using Python requests and Beautiful Soup library: The data to be scraped will include the book title, subtitle, author, price, publisher and publication year.</li>\n",
    "    <li>(Optional)Cleaning and structuring the scraped data: The scraped data will be cleaned and structured using Pandas. This will involve removing any unwanted characters, formatting the data into a tabular format, and ensuring that the data is properly structured.</li>\n",
    "    <li>Storing the scraped data in an Excel file: The final step will be to save the cleaned and structured data in an Excel file. Pandas provides a built-in function to save data in an Excel file.</li>\n",
    "</ul>\n",
    "\n",
    "The completed project will enable users to scrape data from ebooks.com and store it in an Excel file. The project will be useful for researchers, data analysts, and anyone who needs to obtain data from ebooks.com for analysis."
   ]
  },
  {
   "cell_type": "markdown",
   "id": "bd1aa1aa-8743-432a-b349-2b1d1ef37574",
   "metadata": {},
   "source": [
    "#### Importing Libraries"
   ]
  },
  {
   "cell_type": "code",
   "execution_count": 2,
   "id": "ffe09db2-805f-4bbf-a921-9cc0ecf9d909",
   "metadata": {},
   "outputs": [],
   "source": [
    "import requests\n",
    "import pandas as pd"
   ]
  },
  {
   "cell_type": "markdown",
   "id": "8d9441e0-9d2c-4cd3-bd1f-3d2a0ee9107a",
   "metadata": {},
   "source": [
    "#### Requests and Curl"
   ]
  },
  {
   "cell_type": "code",
   "execution_count": 3,
   "id": "ae2b904e-55a6-44c9-96ca-97e1c5c0859b",
   "metadata": {},
   "outputs": [],
   "source": [
    "# Copy the endpoint as curl, and convert it to json using curl convertor\n",
    "\n",
    "params = {\n",
    "    'CountryCode': 'KE',\n",
    "    'subjectId': '31',\n",
    "}\n",
    "\n",
    "response = requests.get('https://www.ebooks.com/api/search/subject/', params=params)"
   ]
  },
  {
   "cell_type": "code",
   "execution_count": 6,
   "id": "7f1720cc-82b6-4d52-91c5-9354f8f72b8c",
   "metadata": {},
   "outputs": [
    {
     "data": {
      "text/plain": [
       "<Response [200]>"
      ]
     },
     "execution_count": 6,
     "metadata": {},
     "output_type": "execute_result"
    }
   ],
   "source": [
    "# examining the response status\n",
    "response"
   ]
  },
  {
   "cell_type": "code",
   "execution_count": 8,
   "id": "f5d26a2a-0bb1-487e-a7f4-65959ca26d6a",
   "metadata": {},
   "outputs": [
    {
     "data": {
      "text/plain": [
       "dict_keys(['search_term', 'start_record', 'total_results', 'books', 'pages', 'previous_page', 'next_page'])"
      ]
     },
     "execution_count": 8,
     "metadata": {},
     "output_type": "execute_result"
    }
   ],
   "source": [
    "# convert respponse to json format, and view the keys\n",
    "response.json().keys()"
   ]
  },
  {
   "cell_type": "code",
   "execution_count": 11,
   "id": "f9248374-18ee-4c07-be51-6ed815a15fa3",
   "metadata": {},
   "outputs": [
    {
     "data": {
      "text/plain": [
       "{'id': 615548,\n",
       " 'book_url': '/en-ke/book/615548/the-spirit-catches-you-and-you-fall-down/anne-fadiman/',\n",
       " 'image_url': 'https://image.ebooks.com/cover/615548.jpg?width=97&height=150&quality=85',\n",
       " 'image_alt_tag': 'The Spirit Catches You and You Fall Down: A Hmong Child, Her American Doctors, and the Collision of Two Cultures',\n",
       " 'src_set': ' https://image.ebooks.com/cover/615548.jpg?width=97&height=150&quality=85 1x,  https://image.ebooks.com/cover/615548.jpg?width=194&height=300&quality=85 2x,  https://image.ebooks.com/cover/615548.jpg?width=291&height=450&quality=85 3x,  https://image.ebooks.com/cover/615548.jpg?width=388&height=600&quality=85 4x',\n",
       " 'image_width': 97,\n",
       " 'image_height': 150,\n",
       " 'title': 'The Spirit Catches You and You Fall Down',\n",
       " 'edition': '',\n",
       " 'subtitle': 'A Hmong Child, Her American Doctors, and the Collision of Two Cultures',\n",
       " 'authors': [{'name': 'Anne Fadiman',\n",
       "   'normalised_name': None,\n",
       "   'landing_page': '/en-ke/author/anne-fadiman/4036/',\n",
       "   'precedence': 0,\n",
       "   'author_type_short': ''}],\n",
       " 'num_authors': 1,\n",
       " 'series': 'FSG Classics Series',\n",
       " 'series_number': '',\n",
       " 'has_series': True,\n",
       " 'series_url': '/en-ke/series/fsg-classics/',\n",
       " 'publisher': 'Farrar, Straus and Giroux',\n",
       " 'publication_year': '1998',\n",
       " 'price': 'US$11.90',\n",
       " 'description': \"Winner of the National Book Critics Circle Award for Nonfiction     The Spirit Catches You and You Fall Down  explores the clash between a small county hospital in California and a refugee family from Laos over the care of Lia Lee, a Hmong child diagnosed with severe epilepsy.    Lia's parents and her doctors both wanted what was best  for Lia, but...\",\n",
       " 'is_preorder': False,\n",
       " 'is_available': True,\n",
       " 'preorder_url': '/account/preorder/?bookId=615548',\n",
       " 'add_to_cart_url': '/cart/add/615548/',\n",
       " 'currency_symbol': 'US$',\n",
       " 'price_number': 11.9,\n",
       " 'on_sale_date': '1998-09-30T00:00:00',\n",
       " 'short_publication_date': 'Sep 1998'}"
      ]
     },
     "execution_count": 11,
     "metadata": {},
     "output_type": "execute_result"
    }
   ],
   "source": [
    "# the data we want to scrap is in the books key dictionary. Let's examine the first book\n",
    "\n",
    "books = response.json()['books']\n",
    "books[0]"
   ]
  },
  {
   "cell_type": "markdown",
   "id": "eae2a4ef-7841-4f33-8128-d61214fb88ef",
   "metadata": {},
   "source": [
    "#### Extract the data to scrap"
   ]
  },
  {
   "cell_type": "code",
   "execution_count": 12,
   "id": "74d75a67-9f22-4eb5-9f79-101bc9e449b3",
   "metadata": {},
   "outputs": [],
   "source": [
    "# We want the folowing data; for book in books\n",
    "# title = book['title']\n",
    "# subtitle = book['subtitle']\n",
    "# author = book['authors'][0]['name']\n",
    "# publisher = book['publisher']\n",
    "# publication_year = book['publication_year']\n",
    "# price = book['price']\n",
    "\n",
    "title = []\n",
    "subtitle = []\n",
    "author = []\n",
    "publisher = []\n",
    "publication_year = []\n",
    "price = []\n",
    "\n",
    "# Loop through all the books in the first page and update the data appropriately\n",
    "for book in books:\n",
    "    title.append(book['title'])\n",
    "    subtitle.append(book['subtitle'])\n",
    "    author.append(book['authors'][0]['name'])\n",
    "    publisher.append(book['publisher'])\n",
    "    publication_year.append(book['publication_year'])\n",
    "    price.append(book['price'])"
   ]
  },
  {
   "cell_type": "markdown",
   "id": "f38914b5-8d17-4cdb-9912-4ab0e5d6813b",
   "metadata": {},
   "source": [
    "#### Convert the extracted data to a Dataframe\n"
   ]
  },
  {
   "cell_type": "code",
   "execution_count": 13,
   "id": "2c333b49-bc0d-4260-a802-2dc9891b266c",
   "metadata": {},
   "outputs": [],
   "source": [
    "books_df = pd.DataFrame({'Title':title, 'Subtitle':subtitle, 'Author':author, 'Publisher':publisher, 'Publication Year':publication_year, 'Price':price})"
   ]
  },
  {
   "cell_type": "code",
   "execution_count": 14,
   "id": "85d70cec-0cd2-4154-a664-701b5be36464",
   "metadata": {},
   "outputs": [
    {
     "data": {
      "text/html": [
       "<div>\n",
       "<style scoped>\n",
       "    .dataframe tbody tr th:only-of-type {\n",
       "        vertical-align: middle;\n",
       "    }\n",
       "\n",
       "    .dataframe tbody tr th {\n",
       "        vertical-align: top;\n",
       "    }\n",
       "\n",
       "    .dataframe thead th {\n",
       "        text-align: right;\n",
       "    }\n",
       "</style>\n",
       "<table border=\"1\" class=\"dataframe\">\n",
       "  <thead>\n",
       "    <tr style=\"text-align: right;\">\n",
       "      <th></th>\n",
       "      <th>Title</th>\n",
       "      <th>Subtitle</th>\n",
       "      <th>Author</th>\n",
       "      <th>Publisher</th>\n",
       "      <th>Publication Year</th>\n",
       "      <th>Price</th>\n",
       "    </tr>\n",
       "  </thead>\n",
       "  <tbody>\n",
       "    <tr>\n",
       "      <th>0</th>\n",
       "      <td>The Spirit Catches You and You Fall Down</td>\n",
       "      <td>A Hmong Child, Her American Doctors, and the C...</td>\n",
       "      <td>Anne Fadiman</td>\n",
       "      <td>Farrar, Straus and Giroux</td>\n",
       "      <td>1998</td>\n",
       "      <td>US$11.90</td>\n",
       "    </tr>\n",
       "    <tr>\n",
       "      <th>1</th>\n",
       "      <td>How Humans Evolved</td>\n",
       "      <td></td>\n",
       "      <td>Robert Boyd</td>\n",
       "      <td>W. W. Norton &amp; Company</td>\n",
       "      <td>2021</td>\n",
       "      <td>US$48.00</td>\n",
       "    </tr>\n",
       "    <tr>\n",
       "      <th>2</th>\n",
       "      <td>Marx in the Anthropocene</td>\n",
       "      <td>Towards the Idea of Degrowth Communism</td>\n",
       "      <td>Kohei Saito</td>\n",
       "      <td>Cambridge University Press</td>\n",
       "      <td>2023</td>\n",
       "      <td>US$22.99</td>\n",
       "    </tr>\n",
       "    <tr>\n",
       "      <th>3</th>\n",
       "      <td>Inequality</td>\n",
       "      <td>A Contemporary Approach to Race, Class, and Ge...</td>\n",
       "      <td>Lisa A. Keister</td>\n",
       "      <td>Cambridge University Press</td>\n",
       "      <td>2022</td>\n",
       "      <td>US$36.00</td>\n",
       "    </tr>\n",
       "    <tr>\n",
       "      <th>4</th>\n",
       "      <td>Employment with a Human Face</td>\n",
       "      <td>Balancing Efficiency, Equity, and Voice</td>\n",
       "      <td>John W. Budd</td>\n",
       "      <td>Cornell University Press</td>\n",
       "      <td>2018</td>\n",
       "      <td>US$27.95</td>\n",
       "    </tr>\n",
       "  </tbody>\n",
       "</table>\n",
       "</div>"
      ],
      "text/plain": [
       "                                      Title  \\\n",
       "0  The Spirit Catches You and You Fall Down   \n",
       "1                        How Humans Evolved   \n",
       "2                  Marx in the Anthropocene   \n",
       "3                                Inequality   \n",
       "4              Employment with a Human Face   \n",
       "\n",
       "                                            Subtitle           Author  \\\n",
       "0  A Hmong Child, Her American Doctors, and the C...     Anne Fadiman   \n",
       "1                                                         Robert Boyd   \n",
       "2             Towards the Idea of Degrowth Communism      Kohei Saito   \n",
       "3  A Contemporary Approach to Race, Class, and Ge...  Lisa A. Keister   \n",
       "4            Balancing Efficiency, Equity, and Voice     John W. Budd   \n",
       "\n",
       "                    Publisher Publication Year     Price  \n",
       "0   Farrar, Straus and Giroux             1998  US$11.90  \n",
       "1      W. W. Norton & Company             2021  US$48.00  \n",
       "2  Cambridge University Press             2023  US$22.99  \n",
       "3  Cambridge University Press             2022  US$36.00  \n",
       "4    Cornell University Press             2018  US$27.95  "
      ]
     },
     "execution_count": 14,
     "metadata": {},
     "output_type": "execute_result"
    }
   ],
   "source": [
    "books_df.head()"
   ]
  },
  {
   "cell_type": "markdown",
   "id": "c54c83f1-b2b5-4392-959e-efa8ba7d04ac",
   "metadata": {},
   "source": [
    "#### Save the Dataframe to Excel"
   ]
  },
  {
   "cell_type": "code",
   "execution_count": 15,
   "id": "4b5e0354-38b5-48ad-8241-4076e8cba290",
   "metadata": {},
   "outputs": [],
   "source": [
    "books_df.to_excel('books.xlsx', index=False)"
   ]
  },
  {
   "cell_type": "code",
   "execution_count": null,
   "id": "a6b23dca-ec0f-4928-bbd6-92d7d382c93b",
   "metadata": {},
   "outputs": [],
   "source": []
  }
 ],
 "metadata": {
  "kernelspec": {
   "display_name": "Python 3 (ipykernel)",
   "language": "python",
   "name": "python3"
  },
  "language_info": {
   "codemirror_mode": {
    "name": "ipython",
    "version": 3
   },
   "file_extension": ".py",
   "mimetype": "text/x-python",
   "name": "python",
   "nbconvert_exporter": "python",
   "pygments_lexer": "ipython3",
   "version": "3.9.12"
  }
 },
 "nbformat": 4,
 "nbformat_minor": 5
}
